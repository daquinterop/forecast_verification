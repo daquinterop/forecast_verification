{
 "cells": [
  {
   "cell_type": "code",
   "execution_count": 1,
   "metadata": {},
   "outputs": [],
   "source": [
    "from pandas import DataFrame, date_range, read_table, to_datetime\n",
    "from datetime import datetime, timedelta, date\n",
    "from collections import defaultdict\n",
    "from itertools import product\n",
    "import numpy as np"
   ]
  },
  {
   "cell_type": "code",
   "execution_count": 62,
   "metadata": {},
   "outputs": [],
   "source": [
    "path = '/home/diego/Documents/Salidas/'\n",
    "file_names = {'ClinicaSantaRosa-HospitalUniversitario':'datos_jardin.csv',\n",
    "             'Marengo_1':'datos_tibaitata.csv',\n",
    "             'EBTRF_Villavicencio':'datos_icavill.csv',\n",
    "             'MuseoVillaDeLeyva':'datos_villa.csv'}\n",
    "obs = {'ClinicaSantaRosa-HospitalUniversitario':None,\n",
    "             'Marengo_1':None,\n",
    "             'EBTRF_Villavicencio':None,\n",
    "             'MuseoVillaDeLeyva':None}\n",
    "dates = date_range(start='2019-11-01', end='2020-01-15')\n",
    "\n",
    "#Open observation files\n",
    "for file in file_names.keys():\n",
    "    obs[file] = read_table('{}{}'.format(path, file_names[file]), sep=',')\n",
    "    obs[file] = obs[file].drop_duplicates(subset=\"Fecha\")\n",
    "    obs[file].index = obs[file]['Fecha']\n",
    "    obs[file].index = to_datetime(obs[file].index)\n",
    "    \n",
    "#Open forecast files\n",
    "forecast = {0:None, 1:None, 2:None}\n",
    "for file in (0, 1, 2):\n",
    "    forecast[file] = read_table('{}Prec_{}.csv'.format(path, file), sep=',')\n",
    "    forecast[file]['Date'] = to_datetime(forecast[file]['Date'])\n",
    "    forecast[file].index = forecast[file]['Date']"
   ]
  },
  {
   "cell_type": "code",
   "execution_count": 40,
   "metadata": {},
   "outputs": [],
   "source": [
    "# Hourly forecast to daily forecast\n",
    "forecast_daily = {0:None, 1:None, 2:None}\n",
    "\n",
    "for forday, date in product((0, 1, 2), dates):\n",
    "    if date == dates[0]:\n",
    "        df = DataFrame(columns=forecast[0].columns)\n",
    "    day = datetime.strftime(date, '%Y/%m/%d')\n",
    "    nextday = datetime.strftime(date + timedelta(days=1), '%Y/%m/%d')\n",
    "    row = forecast[forday].loc['{} 07:00:00'.format(day):\n",
    "                               '{} 07:00:00'.format(nextday)].sum()\n",
    "    row.name = day\n",
    "    df = df.append(row)\n",
    "    if date == dates[-1]:\n",
    "        df.index = to_datetime(df.index)\n",
    "        forecast_daily[forday] = df"
   ]
  },
  {
   "cell_type": "markdown",
   "metadata": {},
   "source": [
    "## RMSE\n",
    "$$RMSE = \\left[ \\frac{1}{n} \\sum_{i=1}^{i=n}{ (Y_i - \\hat{Y_i})^2 }\\right]$$\n",
    "\n",
    "## ME\n",
    "\n",
    "$$ ME = \\frac{1}{n} \\sum_{i=1}^{i=n} Y_i - \\hat{Y_i}$$"
   ]
  },
  {
   "cell_type": "code",
   "execution_count": 112,
   "metadata": {},
   "outputs": [],
   "source": [
    "def rmse(obs, forescast):\n",
    "    '''Root meen square Error\n",
    "    observation and forecast are same length iterable objects, \n",
    "    it returns RMSE as float'''\n",
    "    SUM = [(i - j)**2 for i, j in zip(obs, forecast)]\n",
    "    n = len(obs)\n",
    "    return (1/n * np.nansum(SUM))**0.5\n",
    "\n",
    "def bias(obs, forecast):\n",
    "    '''Return BIAS as Mean Error'''\n",
    "    SUM = [i - j for i, j in zip(obs, forecast)]\n",
    "    n = len(obs)\n",
    "    return (1/n * np.nansum(SUM))\n",
    "\n",
    "def contingency_table(obs, forecast, geqt = 1):\n",
    "    a = []; b = []; c = []; d = []\n",
    "    n = 0\n",
    "    for OBS, FOR in zip(obs, forecast):\n",
    "        if not (np.isnan(OBS) or np.isnan(FOR)):\n",
    "            n += 1\n",
    "            if OBS >= geqt and FOR >= geqt:\n",
    "                a.append(1)\n",
    "            elif not(OBS >= geqt) and FOR >= geqt:\n",
    "                b.append(1)\n",
    "            elif OBS >= geqt and not(FOR >= geqt):\n",
    "                c.append(1)\n",
    "            else:\n",
    "                d.append(1)\n",
    "    return {'a':sum(a), 'b':sum(b), 'c':sum(c),\n",
    "           'd':sum(d), 'n':n}\n",
    "    "
   ]
  },
  {
   "cell_type": "code",
   "execution_count": 116,
   "metadata": {},
   "outputs": [
    {
     "name": "stdout",
     "output_type": "stream",
     "text": [
      "********ClinicaSantaRosa-HospitalUniversitario********\n",
      "RMSE = 0.000\n",
      "BIAS = -4.895\n",
      "PC = 0.500\n",
      "********Marengo_1********\n",
      "RMSE = 0.567\n",
      "BIAS = 0.026\n",
      "PC = 0.635\n",
      "********EBTRF_Villavicencio********\n",
      "RMSE = 2.176\n",
      "BIAS = 2.013\n",
      "PC = 0.693\n",
      "********MuseoVillaDeLeyva********\n",
      "RMSE = 0.651\n",
      "BIAS = -2.888\n",
      "PC = 0.627\n"
     ]
    }
   ],
   "source": [
    "for point in obs.keys():\n",
    "    print('********{}********'.format(point))\n",
    "    OBS = []; FOR = []\n",
    "    for date in dates:\n",
    "        try:\n",
    "            OBS.append(obs[point].loc[date]['Valor'])\n",
    "        except KeyError:\n",
    "            OBS.append(np.nan)\n",
    "        try:\n",
    "            FOR.append(forecast_daily[0].loc[date][point])\n",
    "        except KeyError:\n",
    "            FOR.append(np.nan)\n",
    "    contab = contingency_table(OBS, FOR)\n",
    "    print('RMSE = {:.3f}'.format(rmse(OBS, FOR)))\n",
    "    print('BIAS = {:.3f}'.format(bias(OBS, FOR)))\n",
    "    print('PC = {:.3f}'.format((contab['a'] + contab['d'])/contab['n']))"
   ]
  },
  {
   "cell_type": "code",
   "execution_count": 60,
   "metadata": {},
   "outputs": [
    {
     "data": {
      "text/plain": [
       "Fecha\n",
       "2019-12-01    0.0\n",
       "2019-12-01    0.0\n",
       "2019-12-01    0.0\n",
       "2019-12-01    0.0\n",
       "2019-12-01    0.0\n",
       "2019-12-01    0.0\n",
       "2019-12-01    0.0\n",
       "2019-12-01    0.0\n",
       "Name: Valor, dtype: float64"
      ]
     },
     "execution_count": 60,
     "metadata": {},
     "output_type": "execute_result"
    }
   ],
   "source": [
    "obs['Marengo_1'].loc['2019-12-01']['Valor']"
   ]
  },
  {
   "cell_type": "code",
   "execution_count": 66,
   "metadata": {},
   "outputs": [
    {
     "data": {
      "text/plain": [
       "76"
      ]
     },
     "execution_count": 66,
     "metadata": {},
     "output_type": "execute_result"
    }
   ],
   "source": [
    "len(FOR)"
   ]
  }
 ],
 "metadata": {
  "kernelspec": {
   "display_name": "Python 3",
   "language": "python",
   "name": "python3"
  },
  "language_info": {
   "codemirror_mode": {
    "name": "ipython",
    "version": 3
   },
   "file_extension": ".py",
   "mimetype": "text/x-python",
   "name": "python",
   "nbconvert_exporter": "python",
   "pygments_lexer": "ipython3",
   "version": "3.7.4"
  }
 },
 "nbformat": 4,
 "nbformat_minor": 2
}
