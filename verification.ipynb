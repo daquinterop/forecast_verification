{
 "cells": [
  {
   "cell_type": "code",
   "execution_count": 20,
   "metadata": {},
   "outputs": [],
   "source": [
    "from pandas import DataFrame, date_range, read_table, to_datetime\n",
    "from datetime import datetime, timedelta, date\n",
    "from collections import defaultdict\n",
    "from itertools import product\n",
    "import numpy as np"
   ]
  },
  {
   "cell_type": "code",
   "execution_count": 38,
   "metadata": {},
   "outputs": [],
   "source": [
    "path = '/home/diego/Documents/Salidas/'\n",
    "file_names = {'ClinicaSantaRosa-HospitalUniversitario':'datos_jardin.csv',\n",
    "             'Marengo_1':'datos_tibaitata.csv',\n",
    "             'EBTRF_Villavicencio':'datos_icavill.csv',\n",
    "             'MuseoVillaDeLeyva':'datos_villa.csv'}\n",
    "obs = {'ClinicaSantaRosa-HospitalUniversitario':None,\n",
    "             'Marengo_1':None,\n",
    "             'EBTRF_Villavicencio':None,\n",
    "             'MuseoVillaDeLeyva':None}\n",
    "dates = date_range(start='2019-11-01', end='2020-01-15')\n",
    "\n",
    "#Open observation files\n",
    "for file in file_names.keys():\n",
    "    obs[file] = read_table('{}{}'.format(path, file_names[file]), sep=',')\n",
    "    \n",
    "#Open forecast files\n",
    "forecast = {0:None, 1:None, 2:None}\n",
    "for file in (0, 1, 2):\n",
    "    forecast[file] = read_table('{}Prec_{}.csv'.format(path, file), sep=',')\n",
    "    forecast[file]['Date'] = to_datetime(forecast[file]['Date'])\n",
    "    forecast[file].index = forecast[file]['Date']"
   ]
  },
  {
   "cell_type": "code",
   "execution_count": 57,
   "metadata": {},
   "outputs": [
    {
     "data": {
      "text/plain": [
       "Timestamp('2019-11-01 00:00:00', freq='D')"
      ]
     },
     "execution_count": 57,
     "metadata": {},
     "output_type": "execute_result"
    }
   ],
   "source": [
    "date"
   ]
  },
  {
   "cell_type": "code",
   "execution_count": 56,
   "metadata": {},
   "outputs": [
    {
     "ename": "TypeError",
     "evalue": "strptime() argument 1 must be str, not Timestamp",
     "output_type": "error",
     "traceback": [
      "\u001b[0;31m---------------------------------------------------------------------------\u001b[0m",
      "\u001b[0;31mTypeError\u001b[0m                                 Traceback (most recent call last)",
      "\u001b[0;32m<ipython-input-56-632871fb47ff>\u001b[0m in \u001b[0;36m<module>\u001b[0;34m\u001b[0m\n\u001b[1;32m      5\u001b[0m     \u001b[0;32mif\u001b[0m \u001b[0mdate\u001b[0m \u001b[0;34m==\u001b[0m \u001b[0mdates\u001b[0m\u001b[0;34m[\u001b[0m\u001b[0;36m0\u001b[0m\u001b[0;34m]\u001b[0m\u001b[0;34m:\u001b[0m\u001b[0;34m\u001b[0m\u001b[0;34m\u001b[0m\u001b[0m\n\u001b[1;32m      6\u001b[0m         \u001b[0mdf\u001b[0m \u001b[0;34m=\u001b[0m \u001b[0mDataFrame\u001b[0m\u001b[0;34m(\u001b[0m\u001b[0mcolumns\u001b[0m\u001b[0;34m=\u001b[0m\u001b[0mforecast\u001b[0m\u001b[0;34m[\u001b[0m\u001b[0;36m0\u001b[0m\u001b[0;34m]\u001b[0m\u001b[0;34m.\u001b[0m\u001b[0mcolumns\u001b[0m\u001b[0;34m)\u001b[0m\u001b[0;34m\u001b[0m\u001b[0;34m\u001b[0m\u001b[0m\n\u001b[0;32m----> 7\u001b[0;31m     \u001b[0mday\u001b[0m \u001b[0;34m=\u001b[0m \u001b[0mdatetime\u001b[0m\u001b[0;34m.\u001b[0m\u001b[0mstrptime\u001b[0m\u001b[0;34m(\u001b[0m\u001b[0mdate\u001b[0m\u001b[0;34m,\u001b[0m \u001b[0;34m'%Y/%m/%d'\u001b[0m\u001b[0;34m)\u001b[0m\u001b[0;34m\u001b[0m\u001b[0;34m\u001b[0m\u001b[0m\n\u001b[0m\u001b[1;32m      8\u001b[0m     \u001b[0mnextday\u001b[0m \u001b[0;34m=\u001b[0m \u001b[0mdatetime\u001b[0m\u001b[0;34m.\u001b[0m\u001b[0mstrptime\u001b[0m\u001b[0;34m(\u001b[0m\u001b[0mdate\u001b[0m \u001b[0;34m+\u001b[0m \u001b[0mtimedelta\u001b[0m\u001b[0;34m(\u001b[0m\u001b[0mdays\u001b[0m\u001b[0;34m=\u001b[0m\u001b[0;36m1\u001b[0m\u001b[0;34m)\u001b[0m\u001b[0;34m,\u001b[0m \u001b[0;34m'%Y/%m/%d'\u001b[0m\u001b[0;34m)\u001b[0m\u001b[0;34m\u001b[0m\u001b[0;34m\u001b[0m\u001b[0m\n\u001b[1;32m      9\u001b[0m     row = forecast[forday].loc['{} 07:00:00':'{} 07:00:00'.format(\n",
      "\u001b[0;31mTypeError\u001b[0m: strptime() argument 1 must be str, not Timestamp"
     ]
    }
   ],
   "source": [
    "# Hourly forecast to daily forecast\n",
    "forecast_daily = {0:None, 1:None, 2:None}\n",
    "\n",
    "for forday, date in product((0, 1, 2), dates):\n",
    "    if date == dates[0]:\n",
    "        df = DataFrame(columns=forecast[0].columns)\n",
    "    day = datetime.strptime(date, '%Y/%m/%d')\n",
    "    nextday = datetime.strptime(date + timedelta(days=1), '%Y/%m/%d')\n",
    "    row = forecast[forday].loc['{} 07:00:00':'{} 07:00:00'.format(\n",
    "                    day, nextday)].sum()\n",
    "    row.name = day\n",
    "    df.append(row)\n",
    "    if day == dates[-1]:\n",
    "        forecast_daily = df"
   ]
  },
  {
   "cell_type": "code",
   "execution_count": 53,
   "metadata": {},
   "outputs": [
    {
     "data": {
      "text/html": [
       "<div>\n",
       "<style scoped>\n",
       "    .dataframe tbody tr th:only-of-type {\n",
       "        vertical-align: middle;\n",
       "    }\n",
       "\n",
       "    .dataframe tbody tr th {\n",
       "        vertical-align: top;\n",
       "    }\n",
       "\n",
       "    .dataframe thead th {\n",
       "        text-align: right;\n",
       "    }\n",
       "</style>\n",
       "<table border=\"1\" class=\"dataframe\">\n",
       "  <thead>\n",
       "    <tr style=\"text-align: right;\">\n",
       "      <th></th>\n",
       "      <th>Date</th>\n",
       "      <th>Marengo_1</th>\n",
       "      <th>Marengo_2</th>\n",
       "      <th>Marengo_3</th>\n",
       "      <th>ClinicaSantaRosa-HospitalUniversitario</th>\n",
       "      <th>Campus-UrielGutierrez-CamiloTorres</th>\n",
       "      <th>Casa_Calle60</th>\n",
       "      <th>Casa_Gaitan</th>\n",
       "      <th>CerroAltoDelCable</th>\n",
       "      <th>EdificioLasNieves</th>\n",
       "      <th>ClaustroSanAgustin-Observatorio</th>\n",
       "      <th>EBTRF_Villavicencio</th>\n",
       "      <th>LaEsperanza-Guaymaral</th>\n",
       "      <th>MuseoVillaDeLeyva</th>\n",
       "    </tr>\n",
       "  </thead>\n",
       "  <tbody>\n",
       "    <tr>\n",
       "      <td>2019-11-01</td>\n",
       "      <td>NaN</td>\n",
       "      <td>5.0</td>\n",
       "      <td>9.0</td>\n",
       "      <td>9.0</td>\n",
       "      <td>21.0</td>\n",
       "      <td>23.0</td>\n",
       "      <td>23.0</td>\n",
       "      <td>21.0</td>\n",
       "      <td>25.0</td>\n",
       "      <td>19.0</td>\n",
       "      <td>33.0</td>\n",
       "      <td>0.0</td>\n",
       "      <td>7.0</td>\n",
       "      <td>10.0</td>\n",
       "    </tr>\n",
       "  </tbody>\n",
       "</table>\n",
       "</div>"
      ],
      "text/plain": [
       "            Date  Marengo_1  Marengo_2  Marengo_3  \\\n",
       "2019-11-01   NaN        5.0        9.0        9.0   \n",
       "\n",
       "            ClinicaSantaRosa-HospitalUniversitario  \\\n",
       "2019-11-01                                    21.0   \n",
       "\n",
       "            Campus-UrielGutierrez-CamiloTorres  Casa_Calle60  Casa_Gaitan  \\\n",
       "2019-11-01                                23.0          23.0         21.0   \n",
       "\n",
       "            CerroAltoDelCable  EdificioLasNieves  \\\n",
       "2019-11-01               25.0               19.0   \n",
       "\n",
       "            ClaustroSanAgustin-Observatorio  EBTRF_Villavicencio  \\\n",
       "2019-11-01                             33.0                  0.0   \n",
       "\n",
       "            LaEsperanza-Guaymaral  MuseoVillaDeLeyva  \n",
       "2019-11-01                    7.0               10.0  "
      ]
     },
     "execution_count": 53,
     "metadata": {},
     "output_type": "execute_result"
    }
   ],
   "source": [
    "obj = forecast[0].loc['2019-11-01 07:00:00':'2019-11-02 07:00:00'].sum()\n",
    "obj.name = '2019-11-01'\n",
    "df = DataFrame(columns=forecast[0].columns)\n",
    "df.append(obj, ignore_index=False)"
   ]
  }
 ],
 "metadata": {
  "kernelspec": {
   "display_name": "Python 3",
   "language": "python",
   "name": "python3"
  },
  "language_info": {
   "codemirror_mode": {
    "name": "ipython",
    "version": 3
   },
   "file_extension": ".py",
   "mimetype": "text/x-python",
   "name": "python",
   "nbconvert_exporter": "python",
   "pygments_lexer": "ipython3",
   "version": "3.7.4"
  }
 },
 "nbformat": 4,
 "nbformat_minor": 2
}
