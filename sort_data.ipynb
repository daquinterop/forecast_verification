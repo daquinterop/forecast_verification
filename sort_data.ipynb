{
 "cells": [
  {
   "cell_type": "code",
   "execution_count": 145,
   "metadata": {},
   "outputs": [],
   "source": [
    "\"\"\"This script is for extract data from text files\n",
    "    and sort it so as to do a forecast verification\"\"\"\n",
    "\n",
    "from pandas import DataFrame, date_range, read_table, isnull\n",
    "from datetime import datetime, timedelta, date\n",
    "from collections import defaultdict\n",
    "from itertools import product\n",
    "import numpy as np"
   ]
  },
  {
   "cell_type": "code",
   "execution_count": 276,
   "metadata": {},
   "outputs": [],
   "source": [
    "'''Define variables'''\n",
    "path = '/home/diego/Documents/Salidas/'\n",
    "dates = date_range(start='2019-11-01', end='2020-01-15')\n",
    "folders = [i.strftime('%Y%m%d') for i in dates]\n",
    "variables = ['HR', 'Prec', 'TMed']"
   ]
  },
  {
   "cell_type": "code",
   "execution_count": 277,
   "metadata": {},
   "outputs": [],
   "source": [
    "'''Load every file as a DataFrame'''\n",
    "files = {'HR':defaultdict(),\n",
    "         'Prec':defaultdict(),\n",
    "         'TMed':defaultdict()}\n",
    "for var, folder in product(variables, folders):\n",
    "    try: \n",
    "        df = read_table('{0}{1}/Pronostico_{2}_{1}.txt'.format(path, folder, var))\n",
    "        df = df.dropna()\n",
    "        # Create a column for date object\n",
    "        df['Date'] = [datetime.strptime(i, '%m/%d/%Y %H:%M:%S') for i in df['Fecha']]\n",
    "        files[var][folder] = df\n",
    "    except FileNotFoundError:\n",
    "        files[var][folder] = None"
   ]
  },
  {
   "cell_type": "code",
   "execution_count": 278,
   "metadata": {},
   "outputs": [],
   "source": [
    "'''List of points'''\n",
    "points = (files[variables[0]][folders[0]]['Estacion'].unique())\n",
    "points = points[~isnull(points)]"
   ]
  },
  {
   "cell_type": "code",
   "execution_count": null,
   "metadata": {},
   "outputs": [
    {
     "name": "stderr",
     "output_type": "stream",
     "text": [
      "/home/diego/anaconda3/lib/python3.7/site-packages/ipykernel_launcher.py:15: UserWarning: Boolean Series key will be reindexed to match DataFrame index.\n",
      "  from ipykernel import kernelapp as app\n"
     ]
    },
    {
     "name": "stdout",
     "output_type": "stream",
     "text": [
      "HR - 0 - Marengo_1\n",
      "HR - 0 - Marengo_2\n",
      "HR - 0 - Marengo_3\n",
      "HR - 0 - ClinicaSantaRosa-HospitalUniversitario\n",
      "HR - 0 - Campus-UrielGutierrez-CamiloTorres\n",
      "HR - 0 - Casa_Calle60\n",
      "HR - 0 - Casa_Gaitan\n",
      "HR - 0 - CerroAltoDelCable\n",
      "HR - 0 - EdificioLasNieves\n",
      "HR - 0 - ClaustroSanAgustin-Observatorio\n",
      "HR - 0 - EBTRF_Villavicencio\n",
      "HR - 0 - LaEsperanza-Guaymaral\n",
      "HR - 0 - MuseoVillaDeLeyva\n",
      "HR - 1 - Marengo_1\n",
      "HR - 1 - Marengo_2\n",
      "HR - 1 - Marengo_3\n",
      "HR - 1 - ClinicaSantaRosa-HospitalUniversitario\n",
      "HR - 1 - Campus-UrielGutierrez-CamiloTorres\n",
      "HR - 1 - Casa_Calle60\n",
      "HR - 1 - Casa_Gaitan\n",
      "HR - 1 - CerroAltoDelCable\n",
      "HR - 1 - EdificioLasNieves\n",
      "HR - 1 - ClaustroSanAgustin-Observatorio\n",
      "HR - 1 - EBTRF_Villavicencio\n",
      "HR - 1 - LaEsperanza-Guaymaral\n",
      "HR - 1 - MuseoVillaDeLeyva\n",
      "HR - 2 - Marengo_1\n",
      "HR - 2 - Marengo_2\n",
      "HR - 2 - Marengo_3\n",
      "HR - 2 - ClinicaSantaRosa-HospitalUniversitario\n",
      "HR - 2 - Campus-UrielGutierrez-CamiloTorres\n",
      "HR - 2 - Casa_Calle60\n",
      "HR - 2 - Casa_Gaitan\n",
      "HR - 2 - CerroAltoDelCable\n",
      "HR - 2 - EdificioLasNieves\n",
      "HR - 2 - ClaustroSanAgustin-Observatorio\n",
      "HR - 2 - EBTRF_Villavicencio\n",
      "HR - 2 - LaEsperanza-Guaymaral\n",
      "HR - 2 - MuseoVillaDeLeyva\n",
      "Prec - 0 - Marengo_1\n",
      "Prec - 0 - Marengo_2\n",
      "Prec - 0 - Marengo_3\n"
     ]
    }
   ],
   "source": [
    "'''Objects for data gathering'''\n",
    "datavars = defaultdict()\n",
    "data = {0:[], 1:[], 2:[]}\n",
    "\n",
    "dataList = []\n",
    "dateList = []\n",
    "datadict = defaultdict()\n",
    "\n",
    "'''Gather, sort and save data'''\n",
    "for var, day, point, date in product(variables, (0, 1, 2), points, dates):\n",
    "    df = files[var][date.strftime('%Y%m%d')]\n",
    "    for hour in range(1, 25):\n",
    "        try:\n",
    "            dataList.append(float(df[df['Estacion'] == point][\n",
    "                df['Date'] == date + timedelta(hours=hour, days=day)][var]))\n",
    "            dateList.append(date + timedelta(hours=hour, days=day))\n",
    "        except TypeError:\n",
    "            dataList.append(None)\n",
    "            dateList.append(date + timedelta(hours=hour, days=day))\n",
    "    if date == dates[-1]:\n",
    "        if point == points[0]:\n",
    "            datadict['Date'] = dateList\n",
    "        dateList = []\n",
    "        datadict[point] = dataList\n",
    "        dataList = []\n",
    "        if point == points[-1]:\n",
    "            data[day]= DataFrame(datadict)\n",
    "            datavars[var] = data[day]\n",
    "            data[day].to_csv('{}{}_{}.csv'.format(path, var, day), index=False)\n",
    "            \n",
    "        print('{} - {} - {}'.format(var, day, point))"
   ]
  }
 ],
 "metadata": {
  "kernelspec": {
   "display_name": "Python 3",
   "language": "python",
   "name": "python3"
  },
  "language_info": {
   "codemirror_mode": {
    "name": "ipython",
    "version": 3
   },
   "file_extension": ".py",
   "mimetype": "text/x-python",
   "name": "python",
   "nbconvert_exporter": "python",
   "pygments_lexer": "ipython3",
   "version": "3.7.4"
  }
 },
 "nbformat": 4,
 "nbformat_minor": 2
}
