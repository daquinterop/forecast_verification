{
 "cells": [
  {
   "cell_type": "code",
   "execution_count": 111,
   "metadata": {},
   "outputs": [],
   "source": [
    "\"\"\"This script is for extract data from text files\n",
    "    and sort it so as to do a forecast verification\"\"\"\n",
    "\n",
    "from pandas import DataFrame, date_range, read_table, isnull\n",
    "from datetime import datetime\n",
    "from collections import defaultdict\n",
    "from itertools import product\n",
    "import numpy as np"
   ]
  },
  {
   "cell_type": "code",
   "execution_count": 18,
   "metadata": {},
   "outputs": [],
   "source": [
    "'''Define variables'''\n",
    "path = '/home/diego/Documents/Salidas/'\n",
    "dates = date_range(start='2019-11-01', end='2020-01-15')\n",
    "folders = [i.strftime('%Y%m%d') for i in dates]\n",
    "variables = ['HR', 'Prec', 'Tmed']"
   ]
  },
  {
   "cell_type": "code",
   "execution_count": 91,
   "metadata": {},
   "outputs": [],
   "source": [
    "'''Load every file as a DataFrame'''\n",
    "files = {'HR':defaultdict(),\n",
    "         'Prec':defaultdict(),\n",
    "         'Tmed':defaultdict()}\n",
    "for var, folder in product(variables, folders):\n",
    "    try: \n",
    "        df = read_table('{0}{1}/Pronostico_{2}_{1}.txt'.format(path, folder, var))\n",
    "        df = df.dropna()\n",
    "        # Create a column for date object\n",
    "        df['Date'] = [datetime.strptime(i, '%m/%d/%Y %H:%M:%S') for i in df['Fecha']]\n",
    "        files[var][folder] = df\n",
    "    except FileNotFoundError:\n",
    "        files[var][folder] = None"
   ]
  },
  {
   "cell_type": "code",
   "execution_count": 113,
   "metadata": {},
   "outputs": [],
   "source": [
    "'''List of points'''\n",
    "points = (files[variables[0]][folders[0]]['Estacion'].unique())\n",
    "points = points[~isnull(points)]"
   ]
  },
  {
   "cell_type": "code",
   "execution_count": 116,
   "metadata": {},
   "outputs": [
    {
     "data": {
      "text/plain": [
       "defaultdict(None,\n",
       "            {'Marengo_1': {1: [], 2: [], 3: []},\n",
       "             'Marengo_2': {1: [], 2: [], 3: []},\n",
       "             'Marengo_3': {1: [], 2: [], 3: []},\n",
       "             'ClinicaSantaRosa-HospitalUniversitario': {1: [], 2: [], 3: []},\n",
       "             'Campus-UrielGutierrez-CamiloTorres': {1: [], 2: [], 3: []},\n",
       "             'Casa_Calle60': {1: [], 2: [], 3: []},\n",
       "             'Casa_Gaitan': {1: [], 2: [], 3: []},\n",
       "             'CerroAltoDelCable': {1: [], 2: [], 3: []},\n",
       "             'EdificioLasNieves': {1: [], 2: [], 3: []},\n",
       "             'ClaustroSanAgustin-Observatorio': {1: [], 2: [], 3: []},\n",
       "             'EBTRF_Villavicencio': {1: [], 2: [], 3: []},\n",
       "             'LaEsperanza-Guaymaral': {1: [], 2: [], 3: []},\n",
       "             'MuseoVillaDeLeyva': {1: [], 2: [], 3: []}})"
      ]
     },
     "execution_count": 116,
     "metadata": {},
     "output_type": "execute_result"
    }
   ],
   "source": [
    "data = defaultdict()\n",
    "for point in points:\n",
    "    data[point] = {1:[], 2:[], 3:[]}\n",
    "data"
   ]
  },
  {
   "cell_type": "code",
   "execution_count": 63,
   "metadata": {},
   "outputs": [],
   "source": [
    "date = datetime.strptime(files['HR']['20200112'][files['HR']['20200112']['Estacion'] == points[0]]['Fecha'][0], '%d/%m/%Y %H:%M:%S')"
   ]
  }
 ],
 "metadata": {
  "kernelspec": {
   "display_name": "Python 3",
   "language": "python",
   "name": "python3"
  },
  "language_info": {
   "codemirror_mode": {
    "name": "ipython",
    "version": 3
   },
   "file_extension": ".py",
   "mimetype": "text/x-python",
   "name": "python",
   "nbconvert_exporter": "python",
   "pygments_lexer": "ipython3",
   "version": "3.7.4"
  }
 },
 "nbformat": 4,
 "nbformat_minor": 2
}
