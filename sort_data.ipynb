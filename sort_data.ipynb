{
 "cells": [
  {
   "cell_type": "code",
   "execution_count": 20,
   "metadata": {},
   "outputs": [],
   "source": [
    "\"\"\"This script is for extract data from text files\n",
    "    and sort it so as to do a forecast verification\"\"\"\n",
    "\n",
    "from pandas import DataFrame, date_range, read_table\n",
    "from datetime import datetime\n",
    "from collections import defaultdict\n",
    "from itertools import product"
   ]
  },
  {
   "cell_type": "code",
   "execution_count": 18,
   "metadata": {},
   "outputs": [],
   "source": [
    "path = '/home/diego/Documents/Salidas/'\n",
    "dates = date_range(start='2019-11-01', end='2020-01-15')\n",
    "folders = [i.strftime('%Y%m%d') for i in dates]\n",
    "variables = ['HR', 'Prec', 'Tmed']"
   ]
  },
  {
   "cell_type": "code",
   "execution_count": 23,
   "metadata": {},
   "outputs": [],
   "source": [
    "files = {'HR':defaultdict(),\n",
    "         'Prec':defaultdict(),\n",
    "         'Tmed':defaultdict()}\n",
    "for var, folder in product(variables, folders):\n",
    "    try:\n",
    "        files[var][folder] = read_table('{0}{1}/Pronostico_{2}_{1}.txt'.format(path, folder, var))\n",
    "    except FileNotFoundError:\n",
    "        files[var][folder] = None"
   ]
  },
  {
   "cell_type": "code",
   "execution_count": null,
   "metadata": {},
   "outputs": [],
   "source": [
    "files"
   ]
  }
 ],
 "metadata": {
  "kernelspec": {
   "display_name": "Python 3",
   "language": "python",
   "name": "python3"
  },
  "language_info": {
   "codemirror_mode": {
    "name": "ipython",
    "version": 3
   },
   "file_extension": ".py",
   "mimetype": "text/x-python",
   "name": "python",
   "nbconvert_exporter": "python",
   "pygments_lexer": "ipython3",
   "version": "3.7.4"
  }
 },
 "nbformat": 4,
 "nbformat_minor": 2
}
